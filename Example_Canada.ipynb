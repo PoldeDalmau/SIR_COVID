{
 "cells": [
  {
   "cell_type": "code",
   "execution_count": 1,
   "id": "mechanical-program",
   "metadata": {},
   "outputs": [],
   "source": [
    "import numpy as np\n",
    "from scipy.integrate import odeint\n",
    "from scipy.optimize import curve_fit\n",
    "import matplotlib.pyplot as plt\n",
    "from time import time\n",
    "import pandas as pd"
   ]
  },
  {
   "cell_type": "code",
   "execution_count": 2,
   "id": "standard-guest",
   "metadata": {},
   "outputs": [
    {
     "data": {
      "text/html": [
       "<div>\n",
       "<style scoped>\n",
       "    .dataframe tbody tr th:only-of-type {\n",
       "        vertical-align: middle;\n",
       "    }\n",
       "\n",
       "    .dataframe tbody tr th {\n",
       "        vertical-align: top;\n",
       "    }\n",
       "\n",
       "    .dataframe thead th {\n",
       "        text-align: right;\n",
       "    }\n",
       "</style>\n",
       "<table border=\"1\" class=\"dataframe\">\n",
       "  <thead>\n",
       "    <tr style=\"text-align: right;\">\n",
       "      <th></th>\n",
       "      <th>pruid</th>\n",
       "      <th>prname</th>\n",
       "      <th>prnameFR</th>\n",
       "      <th>date</th>\n",
       "      <th>update</th>\n",
       "      <th>numconf</th>\n",
       "      <th>numprob</th>\n",
       "      <th>numdeaths</th>\n",
       "      <th>numtotal</th>\n",
       "      <th>numtested</th>\n",
       "      <th>...</th>\n",
       "      <th>ratedeaths_last14</th>\n",
       "      <th>numtotal_last7</th>\n",
       "      <th>ratetotal_last7</th>\n",
       "      <th>numdeaths_last7</th>\n",
       "      <th>ratedeaths_last7</th>\n",
       "      <th>avgtotal_last7</th>\n",
       "      <th>avgincidence_last7</th>\n",
       "      <th>avgdeaths_last7</th>\n",
       "      <th>avgratedeaths_last7</th>\n",
       "      <th>raterecovered</th>\n",
       "    </tr>\n",
       "  </thead>\n",
       "  <tbody>\n",
       "    <tr>\n",
       "      <th>0</th>\n",
       "      <td>35</td>\n",
       "      <td>Ontario</td>\n",
       "      <td>Ontario</td>\n",
       "      <td>2020-01-31</td>\n",
       "      <td>NaN</td>\n",
       "      <td>3</td>\n",
       "      <td>0.0</td>\n",
       "      <td>0.0</td>\n",
       "      <td>3</td>\n",
       "      <td>NaN</td>\n",
       "      <td>...</td>\n",
       "      <td>NaN</td>\n",
       "      <td>NaN</td>\n",
       "      <td>NaN</td>\n",
       "      <td>NaN</td>\n",
       "      <td>NaN</td>\n",
       "      <td>NaN</td>\n",
       "      <td>NaN</td>\n",
       "      <td>NaN</td>\n",
       "      <td>NaN</td>\n",
       "      <td>0.0</td>\n",
       "    </tr>\n",
       "    <tr>\n",
       "      <th>1</th>\n",
       "      <td>59</td>\n",
       "      <td>British Columbia</td>\n",
       "      <td>Colombie-Britannique</td>\n",
       "      <td>2020-01-31</td>\n",
       "      <td>NaN</td>\n",
       "      <td>1</td>\n",
       "      <td>0.0</td>\n",
       "      <td>0.0</td>\n",
       "      <td>1</td>\n",
       "      <td>NaN</td>\n",
       "      <td>...</td>\n",
       "      <td>NaN</td>\n",
       "      <td>NaN</td>\n",
       "      <td>NaN</td>\n",
       "      <td>NaN</td>\n",
       "      <td>NaN</td>\n",
       "      <td>NaN</td>\n",
       "      <td>NaN</td>\n",
       "      <td>NaN</td>\n",
       "      <td>NaN</td>\n",
       "      <td>0.0</td>\n",
       "    </tr>\n",
       "    <tr>\n",
       "      <th>2</th>\n",
       "      <td>1</td>\n",
       "      <td>Canada</td>\n",
       "      <td>Canada</td>\n",
       "      <td>2020-01-31</td>\n",
       "      <td>NaN</td>\n",
       "      <td>4</td>\n",
       "      <td>0.0</td>\n",
       "      <td>0.0</td>\n",
       "      <td>4</td>\n",
       "      <td>NaN</td>\n",
       "      <td>...</td>\n",
       "      <td>NaN</td>\n",
       "      <td>NaN</td>\n",
       "      <td>NaN</td>\n",
       "      <td>NaN</td>\n",
       "      <td>NaN</td>\n",
       "      <td>NaN</td>\n",
       "      <td>NaN</td>\n",
       "      <td>NaN</td>\n",
       "      <td>NaN</td>\n",
       "      <td>0.0</td>\n",
       "    </tr>\n",
       "    <tr>\n",
       "      <th>3</th>\n",
       "      <td>35</td>\n",
       "      <td>Ontario</td>\n",
       "      <td>Ontario</td>\n",
       "      <td>2020-02-08</td>\n",
       "      <td>NaN</td>\n",
       "      <td>3</td>\n",
       "      <td>0.0</td>\n",
       "      <td>0.0</td>\n",
       "      <td>3</td>\n",
       "      <td>NaN</td>\n",
       "      <td>...</td>\n",
       "      <td>NaN</td>\n",
       "      <td>NaN</td>\n",
       "      <td>NaN</td>\n",
       "      <td>NaN</td>\n",
       "      <td>NaN</td>\n",
       "      <td>NaN</td>\n",
       "      <td>NaN</td>\n",
       "      <td>NaN</td>\n",
       "      <td>NaN</td>\n",
       "      <td>0.0</td>\n",
       "    </tr>\n",
       "    <tr>\n",
       "      <th>4</th>\n",
       "      <td>59</td>\n",
       "      <td>British Columbia</td>\n",
       "      <td>Colombie-Britannique</td>\n",
       "      <td>2020-02-08</td>\n",
       "      <td>NaN</td>\n",
       "      <td>4</td>\n",
       "      <td>0.0</td>\n",
       "      <td>0.0</td>\n",
       "      <td>4</td>\n",
       "      <td>NaN</td>\n",
       "      <td>...</td>\n",
       "      <td>NaN</td>\n",
       "      <td>NaN</td>\n",
       "      <td>NaN</td>\n",
       "      <td>NaN</td>\n",
       "      <td>NaN</td>\n",
       "      <td>NaN</td>\n",
       "      <td>NaN</td>\n",
       "      <td>NaN</td>\n",
       "      <td>NaN</td>\n",
       "      <td>0.0</td>\n",
       "    </tr>\n",
       "  </tbody>\n",
       "</table>\n",
       "<p>5 rows × 40 columns</p>\n",
       "</div>"
      ],
      "text/plain": [
       "   pruid            prname              prnameFR       date  update  numconf  \\\n",
       "0     35           Ontario               Ontario 2020-01-31     NaN        3   \n",
       "1     59  British Columbia  Colombie-Britannique 2020-01-31     NaN        1   \n",
       "2      1            Canada                Canada 2020-01-31     NaN        4   \n",
       "3     35           Ontario               Ontario 2020-02-08     NaN        3   \n",
       "4     59  British Columbia  Colombie-Britannique 2020-02-08     NaN        4   \n",
       "\n",
       "   numprob  numdeaths  numtotal  numtested  ...  ratedeaths_last14  \\\n",
       "0      0.0        0.0         3        NaN  ...                NaN   \n",
       "1      0.0        0.0         1        NaN  ...                NaN   \n",
       "2      0.0        0.0         4        NaN  ...                NaN   \n",
       "3      0.0        0.0         3        NaN  ...                NaN   \n",
       "4      0.0        0.0         4        NaN  ...                NaN   \n",
       "\n",
       "   numtotal_last7  ratetotal_last7  numdeaths_last7  ratedeaths_last7  \\\n",
       "0             NaN              NaN              NaN               NaN   \n",
       "1             NaN              NaN              NaN               NaN   \n",
       "2             NaN              NaN              NaN               NaN   \n",
       "3             NaN              NaN              NaN               NaN   \n",
       "4             NaN              NaN              NaN               NaN   \n",
       "\n",
       "   avgtotal_last7  avgincidence_last7  avgdeaths_last7  avgratedeaths_last7  \\\n",
       "0             NaN                 NaN              NaN                  NaN   \n",
       "1             NaN                 NaN              NaN                  NaN   \n",
       "2             NaN                 NaN              NaN                  NaN   \n",
       "3             NaN                 NaN              NaN                  NaN   \n",
       "4             NaN                 NaN              NaN                  NaN   \n",
       "\n",
       "   raterecovered  \n",
       "0            0.0  \n",
       "1            0.0  \n",
       "2            0.0  \n",
       "3            0.0  \n",
       "4            0.0  \n",
       "\n",
       "[5 rows x 40 columns]"
      ]
     },
     "execution_count": 2,
     "metadata": {},
     "output_type": "execute_result"
    }
   ],
   "source": [
    "df = pd.read_csv('Data/covid19-data-Canada.csv', parse_dates=['date'])\n",
    "regions = ['Canada', 'Ontario', 'Quebec', 'British Columbia', 'Alberta', 'Saskatchewan', 'Manitoba']\n",
    "populations = [38, 14.7, 8.6, 5.15, 4.4, 1.18, 1.38]\n",
    "df.head()"
   ]
  },
  {
   "cell_type": "code",
   "execution_count": 3,
   "id": "decreased-punch",
   "metadata": {},
   "outputs": [],
   "source": [
    "run -i Skeleton.py"
   ]
  },
  {
   "cell_type": "markdown",
   "id": "inappropriate-nevada",
   "metadata": {},
   "source": [
    "Below we take real data for removed in Ontario, Canada\n",
    "(The real data covers the period between July 17, 2020 and January 8, 2021)"
   ]
  },
  {
   "cell_type": "code",
   "execution_count": 4,
   "id": "apart-median",
   "metadata": {},
   "outputs": [
    {
     "name": "stdout",
     "output_type": "stream",
     "text": [
      "Canada\n"
     ]
    }
   ],
   "source": [
    "places = {0 : 'Canada', 1: 'Ontario', 2: 'Quebec', 3: 'British Columbia', 4: 'Alberta', 5: 'Saskatchewan', 6: 'Manitoba'}\n",
    "i = 0\n",
    "place = regions[i]\n",
    "place = places[i]\n",
    "N = populations[i]*1e6\n",
    "print ((place))"
   ]
  },
  {
   "cell_type": "code",
   "execution_count": 5,
   "id": "mounted-resistance",
   "metadata": {},
   "outputs": [
    {
     "name": "stdout",
     "output_type": "stream",
     "text": [
      "t start 2020-07-17 00:00:00 \n",
      "t end 2021-01-08 00:00:00\n"
     ]
    },
    {
     "data": {
      "image/png": "[encoded data removed]",
      "text/plain": [
       "<Figure size 432x432 with 1 Axes>"
      ]
     },
     "metadata": {
      "needs_background": "light"
     },
     "output_type": "display_data"
    }
   ],
   "source": [
    "condition = df['prname'] == place\n",
    "Place = df[condition]\n",
    "t_ont = Place.date\n",
    "rem_ont = Place.numdeaths + Place.numrecover\n",
    "start, end = 144, 319\n",
    "\n",
    "\n",
    "rem_ont = rem_ont.tolist()\n",
    "t_ont = t_ont.tolist()\n",
    "print('t start', t_ont[start], '\\nt end', t_ont[end])\n",
    "\n",
    "#print(t_ont)\n",
    "#print(type(act_ont))\n",
    "\n",
    "\n",
    "fig, ax = plt.subplots(figsize=(6, 6))\n",
    "plt.scatter(t_ont[start:end],rem_ont[start:end], marker='.')\n",
    "\n",
    "# Define the date format (from matplotlib.dates import DateFormatter)\n",
    "#date_form = DateFormatter(\"%m-%y\")\n",
    "#ax.xaxis.set_major_formatter(date_form)\n",
    "\n",
    "plt.ylabel('Removed $R(t)$')\n",
    "plt.xlabel('Day')\n",
    "plt.title(place)\n",
    "\n",
    "\n",
    "plt.show()"
   ]
  },
  {
   "cell_type": "markdown",
   "id": "changed-celebrity",
   "metadata": {},
   "source": [
    "Below we take real data for removed in Ontario, Canada for the same period of time as above."
   ]
  },
  {
   "cell_type": "code",
   "execution_count": 6,
   "id": "surgical-divide",
   "metadata": {},
   "outputs": [
    {
     "data": {
      "image/png": "[encoded data removed]",
      "text/plain": [
       "<Figure size 432x432 with 1 Axes>"
      ]
     },
     "metadata": {
      "needs_background": "light"
     },
     "output_type": "display_data"
    }
   ],
   "source": [
    "act_ont = Place.numactive\n",
    "act_ont = act_ont.tolist()\n",
    "\n",
    "fig, ax = plt.subplots(figsize=(6, 6))\n",
    "plt.xticks(rotation=25)\n",
    "plt.scatter(t_ont[start:end],act_ont[start:end], marker='.')\n",
    "\n",
    "plt.ylabel('Infected $I(t)$')\n",
    "\n",
    "plt.title(place)\n",
    "\n",
    "plt.show()\n"
   ]
  },
  {
   "cell_type": "markdown",
   "id": "caring-onion",
   "metadata": {},
   "source": [
    " $\\log\\left(\\frac{S(t)}{S(t_s)}\\right) = -\\frac{R_0}{N}\\cdot(R(t)-R(t_s))$"
   ]
  },
  {
   "cell_type": "code",
   "execution_count": 7,
   "id": "emerging-responsibility",
   "metadata": {},
   "outputs": [],
   "source": [
    "Susc = N - np.array(act_ont[start:end]) - np.array(rem_ont[start:end])\n",
    "Rem = np.array(rem_ont[start:end])\n",
    "lhs1 = np.log(Susc / Susc[0])\n",
    "rhs1 = Rem\n",
    "\n",
    "R_0, _ = curve_fit(linear_func, rhs1, lhs1)\n"
   ]
  },
  {
   "cell_type": "markdown",
   "id": "understood-instruction",
   "metadata": {},
   "source": [
    "$R(t) - R(t_s) = \\gamma \\int_{t_s}^t I(\\tau) \\mathrm{d}\\tau$"
   ]
  },
  {
   "cell_type": "code",
   "execution_count": 8,
   "id": "suspended-digit",
   "metadata": {},
   "outputs": [
    {
     "name": "stdout",
     "output_type": "stream",
     "text": [
      "beta = 0.08274791144826055\n",
      "R_0 = 1.2352553317734292\n",
      "gamma = 0.06698850781680997\n"
     ]
    }
   ],
   "source": [
    "Infec = np.array(act_ont[start:end])\n",
    "lhs2 = np.array(rhs1)\n",
    "t = np.arange(0,len(Infec))\n",
    "rhs2 =  integrate(Infec, t) #insert Matteo's function\n",
    "beta, b = np.polyfit(rhs2, lhs2-lhs2[0], 1)\n",
    "print(\"beta =\", beta)\n",
    "print(\"R_0 =\", R_0[0])\n",
    "print(\"gamma =\", beta/R_0[0])"
   ]
  },
  {
   "cell_type": "code",
   "execution_count": 9,
   "id": "million-findings",
   "metadata": {},
   "outputs": [
    {
     "data": {
      "image/png": "[encoded data removed]",
      "text/plain": [
       "<Figure size 432x288 with 1 Axes>"
      ]
     },
     "metadata": {
      "needs_background": "light"
     },
     "output_type": "display_data"
    },
    {
     "data": {
      "image/png": "[encoded data removed]",
      "text/plain": [
       "<Figure size 432x288 with 1 Axes>"
      ]
     },
     "metadata": {
      "needs_background": "light"
     },
     "output_type": "display_data"
    }
   ],
   "source": [
    "plt.scatter(rhs1/1e5, lhs1/1e-3, facecolors='none', edgecolors='r', linewidths=0.5,label = \"Real Data\")\n",
    "plt.xlabel(\"$R(t)$ in $10^5$\", fontsize=13)\n",
    "plt.ylabel(\"$\\log(S(t)/S(t_0))$ in $10^{-3}$\", fontsize=13)\n",
    "plt.plot(rhs1/1e5, linear_func(rhs1, R_0)/1e-3, c = 'b', label = \"Fitted Model\")\n",
    "plt.legend()\n",
    "plt.show()\n",
    "\n",
    "plt.scatter(rhs2/1e6, lhs2/1e5, facecolors='none', edgecolors='r', linewidths=0.5,label = \"Real Data\")\n",
    "plt.plot(rhs2/1e6, (beta * rhs2 + lhs2[0])/1e5, c = 'b', label = \"Fitted Model\")\n",
    "plt.xlabel(r'$\\int_{t_s}^t I(\\tau) \\mathrm{d}\\tau$ in $10^6$', fontsize=13)\n",
    "plt.ylabel('$R(t)$ in $10^5$', fontsize=13)\n",
    "plt.legend()\n",
    "plt.show()\n"
   ]
  }
 ],
 "metadata": {
  "kernelspec": {
   "display_name": "Python 3",
   "language": "python",
   "name": "python3"
  },
  "language_info": {
   "codemirror_mode": {
    "name": "ipython",
    "version": 3
   },
   "file_extension": ".py",
   "mimetype": "text/x-python",
   "name": "python",
   "nbconvert_exporter": "python",
   "pygments_lexer": "ipython3",
   "version": "3.8.6"
  }
 },
 "nbformat": 4,
 "nbformat_minor": 5
}
