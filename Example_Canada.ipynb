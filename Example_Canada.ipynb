{
 "cells": [
  {
   "cell_type": "code",
   "execution_count": 1,
   "id": "toxic-compound",
   "metadata": {},
   "outputs": [],
   "source": [
    "import numpy as np\n",
    "from scipy.integrate import odeint\n",
    "from scipy.optimize import curve_fit\n",
    "from scipy import stats\n",
    "from scipy.stats import t\n",
    "import matplotlib.pyplot as plt\n",
    "from matplotlib.dates import DateFormatter\n",
    "import pandas as pd"
   ]
  },
  {
   "cell_type": "code",
   "execution_count": 2,
   "id": "decreased-patient",
   "metadata": {},
   "outputs": [],
   "source": [
    "# Initialize data for Canada\n",
    "df = pd.read_csv('Data/covid19-data-Canada.csv', parse_dates=['date'])\n",
    "populations = [38, 14.7, 8.6, 5.15, 4.4, 1.18, 1.38]\n",
    "#df.head()"
   ]
  },
  {
   "cell_type": "code",
   "execution_count": 3,
   "id": "tight-sunday",
   "metadata": {},
   "outputs": [],
   "source": [
    "run -i Skeleton.py"
   ]
  },
  {
   "cell_type": "markdown",
   "id": "specialized-chile",
   "metadata": {},
   "source": [
    "Below we take real data for removed in Ontario, Canada\n",
    "(The real data covers the period between July 17, 2020 and January 8, 2021)"
   ]
  },
  {
   "cell_type": "code",
   "execution_count": 4,
   "id": "independent-arrow",
   "metadata": {},
   "outputs": [
    {
     "name": "stdout",
     "output_type": "stream",
     "text": [
      "Canada\n"
     ]
    }
   ],
   "source": [
    "places = {0 : 'Canada', 1: 'Ontario', 2: 'Quebec', 3: 'British Columbia', 4: 'Alberta', 5: 'Saskatchewan', 6: 'Manitoba'}\n",
    "i = 0\n",
    "place = places[i]\n",
    "N = populations[i]*1e6\n",
    "start, end = 144, 319    # Chosen to match dates analyzed in literature (144, 319)\n",
    "print ((place))"
   ]
  },
  {
   "cell_type": "code",
   "execution_count": 5,
   "id": "included-steering",
   "metadata": {},
   "outputs": [
    {
     "name": "stdout",
     "output_type": "stream",
     "text": [
      "175\n"
     ]
    }
   ],
   "source": [
    "Rem, Infec, Susc, t_ont = Canada_init(place)\n",
    "print(len(Infec))"
   ]
  },
  {
   "cell_type": "markdown",
   "id": "sensitive-toyota",
   "metadata": {},
   "source": [
    "The following can be derived from the SIR model:\n",
    "\n",
    " $\\log\\left(\\frac{S(t)}{S(t_s)}\\right) = -\\frac{R_0}{N}\\cdot(R(t)-R(t_s))$     (1)"
   ]
  },
  {
   "cell_type": "markdown",
   "id": "empirical-cream",
   "metadata": {},
   "source": [
    "$R(t) - R(t_s) = \\gamma \\int_{t_s}^t I(\\tau) \\mathrm{d}\\tau$    (2)"
   ]
  },
  {
   "cell_type": "markdown",
   "id": "careful-maryland",
   "metadata": {},
   "source": [
    "Errors are computed below (95% confidence interval)"
   ]
  },
  {
   "cell_type": "code",
   "execution_count": 6,
   "id": "approximate-appraisal",
   "metadata": {},
   "outputs": [],
   "source": [
    "lhs1, rhs1, R_0, R_0err, textR_0, res = R_0calculator(Susc)\n",
    "lhs2, rhs2, gamma, gammaerr, textgamma, res2 = gammacalculator(Rem, Infec)"
   ]
  },
  {
   "cell_type": "markdown",
   "id": "korean-trinity",
   "metadata": {},
   "source": [
    "Genearate SIR model with computed $R_0$, $\\gamma$ and $\\beta$"
   ]
  },
  {
   "cell_type": "code",
   "execution_count": 7,
   "id": "welsh-diversity",
   "metadata": {},
   "outputs": [
    {
     "name": "stdout",
     "output_type": "stream",
     "text": [
      "gamma = 0.082748 ± 0.000321\n",
      "R_0 = 1.226262 ± 0.008833\n",
      "beta = 0.101471 ± 0.000830, too small?\n"
     ]
    }
   ],
   "source": [
    "print(\"gamma =\", f\"{gamma:.6f}\", \"±\", f\"{gammaerr:.6f}\")\n",
    "print(\"R_0 =\", textR_0)\n",
    "beta = gamma*R_0\n",
    "betaerr = np.sqrt((R_0err/R_0)**2+(gammaerr/gamma)**2)*beta    # not sure this is the way to compute the error in beta\n",
    "print(\"beta =\", f\"{beta:.6f}\", \"±\", f\"{betaerr:.6f}, too small?\")"
   ]
  },
  {
   "cell_type": "raw",
   "id": "classical-nudist",
   "metadata": {},
   "source": [
    "I0, R0, V0 = Infec[0], Rem[0], 0\n",
    "S0 = N - I0 - R0 - V0\n",
    "t = np.arange(0, len(t_ont[start:end]))\n",
    "# Initial conditions vector\n",
    "y0 = S0, I0, R0, V0\n",
    "#no vaccines yet\n",
    "alpha, u = 0, 0\n",
    "\n",
    "ret = odeint(deriv, y0, t, args=(beta, gamma))\n",
    "S_model, I_model, R_model, V_model = ret.T\n",
    "\n",
    "#SIR model with error\n",
    "ret1 = odeint(deriv, y0, t, args=(beta-betaerr, gamma+gammaerr))\n",
    "S_model1, I_model1, R_model1, V_model1 = ret1.T\n",
    "\n",
    "ret2 = odeint(deriv, y0, t, args=(beta+betaerr, gamma-gammaerr))\n",
    "S_model2, I_model2, R_model2, V_model2 = ret2.T"
   ]
  },
  {
   "cell_type": "code",
   "execution_count": 39,
   "id": "labeled-circulation",
   "metadata": {},
   "outputs": [],
   "source": [
    "#get data for different scenarios of u and alpha\n",
    "I0, R0, V0 = Infec[0], Rem[0], 0\n",
    "S0 = N - I0 - R0 - V0\n",
    "# Initial conditions vector\n",
    "y0 = S0, I0, R0, V0\n",
    "#no vaccines for the first 175 days\n",
    "t = np.arange(0, 175)\n",
    "u = 0\n",
    "alpha = 0\n",
    "ret = odeint(deriv, y0, t, args=(beta, gamma))\n",
    "S_bef, I_bef, R_bef, V_bef = ret.T\n",
    "#vaccines from day 176\n",
    "I0, R0, V0 = I_bef[-1], R_bef[-1], 0\n",
    "S0 = N - I0 - R0 - V0\n",
    "y0 = S0, I0, R0, V0\n",
    "ret_v = []\n",
    "t = np.arange(175, 533)\n",
    "u = [0, 0.5*N/1000, 1*N/1000, 2*N/1000, 0.5*N/1000, 1*N/1000, 2*N/1000]\n",
    "alpha = [0, 0.95, 0.95, 0.95, 0.60, 0.60, 0.60]\n",
    "R_aft = []\n",
    "I_aft = []\n",
    "ret_final = []\n",
    "R_final = []\n",
    "I_final = []\n",
    "for i in range(7):\n",
    "    ret_new = odeint(deriv_new, y0, t, args=(beta, gamma))\n",
    "    ret_v.append(ret_new)\n",
    "    _, I_dummy, R_dummy, _ = ret_new.T\n",
    "    R_aft.append(R_dummy)\n",
    "    I_aft.append(I_dummy)\n",
    "    \n",
    "    ret_final.append(np.concatenate((ret, ret_v[i]), axis=0, out=None))\n",
    "    R_final.append(np.concatenate((R_bef, R_aft[i]), axis=0, out=None))\n",
    "    I_final.append(np.concatenate((I_bef, I_aft[i]), axis=0, out=None))"
   ]
  },
  {
   "cell_type": "code",
   "execution_count": 38,
   "id": "northern-nirvana",
   "metadata": {},
   "outputs": [
    {
     "name": "stdout",
     "output_type": "stream",
     "text": [
      "6667980.714045872\n"
     ]
    }
   ],
   "source": [
    "print(R_aft[6][-1])"
   ]
  },
  {
   "cell_type": "code",
   "execution_count": 40,
   "id": "furnished-swimming",
   "metadata": {},
   "outputs": [
    {
     "data": {
      "image/png": "[encoded data removed]",
      "text/plain": [
       "<Figure size 432x288 with 1 Axes>"
      ]
     },
     "metadata": {
      "needs_background": "light"
     },
     "output_type": "display_data"
    }
   ],
   "source": [
    "# plot the data obtained in the previous cell\n",
    "#t = np.arange(0, 533)\n",
    "#plt.plot(t, R_final[1])\n",
    "real_t = pd.date_range(start=\"2020-07-17\",end=\"2021-12-31\")\n",
    "fig, ax = plt.subplots()\n",
    "for i in range(7):\n",
    "    \n",
    "    ax.plot(real_t,R_final[i], label = 'Recovered '+str(i))\n",
    "date_form = DateFormatter('%b-%y')\n",
    "ax.xaxis.set_major_formatter(date_form)\n",
    "plt.xticks(rotation=45)\n",
    " \n",
    "plt.legend()\n",
    "plt.show()"
   ]
  },
  {
   "cell_type": "raw",
   "id": "inclusive-television",
   "metadata": {},
   "source": [
    "Below are all relevant plots"
   ]
  },
  {
   "cell_type": "raw",
   "id": "nasty-testing",
   "metadata": {},
   "source": [
    "plotdataandfits()"
   ]
  },
  {
   "cell_type": "code",
   "execution_count": null,
   "id": "increased-amazon",
   "metadata": {},
   "outputs": [],
   "source": []
  }
 ],
 "metadata": {
  "kernelspec": {
   "display_name": "Python 3",
   "language": "python",
   "name": "python3"
  },
  "language_info": {
   "codemirror_mode": {
    "name": "ipython",
    "version": 3
   },
   "file_extension": ".py",
   "mimetype": "text/x-python",
   "name": "python",
   "nbconvert_exporter": "python",
   "pygments_lexer": "ipython3",
   "version": "3.8.6"
  }
 },
 "nbformat": 4,
 "nbformat_minor": 5
}
